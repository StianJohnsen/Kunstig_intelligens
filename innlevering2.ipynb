{
 "cells": [
  {
   "cell_type": "raw",
   "metadata": {},
   "source": [
    "1: Lag en Iterator Class som kan skrive ut Fibonacci-tallene mellom 0 og 1000"
   ]
  },
  {
   "cell_type": "code",
   "execution_count": 4,
   "metadata": {},
   "outputs": [
    {
     "name": "stdout",
     "output_type": "stream",
     "text": [
      "[0, 1, 1, 2, 3, 5, 8, 13, 21, 34, 55, 89, 144, 233, 377, 610, 987]\n",
      "0\n",
      "1\n"
     ]
    }
   ],
   "source": [
    "class fib_iterator():\n",
    "    def __init__(self):\n",
    "        self.index = 0\n",
    "        self.fib_list = [0,1] \n",
    "    \n",
    "    def __iter__(self):\n",
    "        return self\n",
    "\n",
    "    def last_item(self):\n",
    "        return self.fib_list[len(self.fib_list)-1]\n",
    "    \n",
    "    def next_last_item(self):\n",
    "        if len(self.fib_list) > 2:\n",
    "            return self.fib_list[len(self.fib_list)-2]\n",
    "        else:\n",
    "            return self.fib_list[0]\n",
    "\n",
    "\n",
    "    def __next__(self):\n",
    "        if self.index >= len(self.fib_list):\n",
    "            raise StopIteration\n",
    "        index = self.index\n",
    "        self.index += 1 \n",
    "        return self.fib_list[index]\n",
    "\n",
    "    def make_fib_list(self):\n",
    "        output = self.last_item() + self.next_last_item()\n",
    "\n",
    "        while output < 1000:\n",
    "            self.fib_list.append(output)\n",
    "            output = self.last_item() + self.next_last_item()\n",
    "\n",
    "        return self.fib_list\n",
    "\n",
    "fibonaci_num = fib_iterator()\n",
    "fibonaci_num.make_fib_list()\n",
    "print (fibonaci_num.fib_list)\n",
    "print (fibonaci_num.__next__()) # For å vise at iterator delen av klassen funker\n",
    "print (fibonaci_num.__next__())\n",
    "\n"
   ]
  },
  {
   "cell_type": "raw",
   "metadata": {},
   "source": [
    "[0, 1, 1, 2, 3, 5, 8, 13, 21, 34, 55, 89, 144, 233, 377, 610, 987] #forventet output for oppgave 1"
   ]
  },
  {
   "cell_type": "raw",
   "metadata": {},
   "source": [
    "2: Lag en Generator Function som skriver ut Fibonacci-tallene mellom 0 og 1000"
   ]
  },
  {
   "cell_type": "code",
   "execution_count": 6,
   "metadata": {},
   "outputs": [
    {
     "name": "stdout",
     "output_type": "stream",
     "text": [
      "(0, 1)\n"
     ]
    }
   ],
   "source": [
    "def generator_func():\n",
    "    index = 0\n",
    "    sums = 0"
   ]
  },
  {
   "cell_type": "raw",
   "metadata": {},
   "source": [
    "[0, 1, 1, 2, 3, 5, 8, 13, 21, 34, 55, 89, 144, 233, 377, 610, 987] #forventet output for oppgave 2"
   ]
  },
  {
   "cell_type": "raw",
   "metadata": {},
   "source": [
    "3: Lag en Class NewInt som arver fra int. Den skal ha en Instance Method is_fibonacci() som returnerer True om tallet er et Fibonacci-tall, False hvis ikke. Generer en liste med NewInt fra 0 til 1000. Lag så en List Comprehension som kun beholder tallene som er Fibonacci ved hjelp av klassen og instansmetoden du lagde."
   ]
  },
  {
   "cell_type": "code",
   "execution_count": 14,
   "metadata": {},
   "outputs": [
    {
     "name": "stdout",
     "output_type": "stream",
     "text": [
      "[0, 1, 2, 3, 5, 8, 13, 21, 34, 55, 89, 144, 233, 377, 610, 987]\n"
     ]
    }
   ],
   "source": [
    "\n",
    "from math import sqrt\n",
    "class NewInt(int):\n",
    "    def __init__(self):\n",
    "        self.num_list = [x for x in range (1001)]\n",
    "        \n",
    "\n",
    "    \n",
    "    def is_fibonacci(self,num):\n",
    "        self.num = num\n",
    "        try:\n",
    "            self.num_1 = sqrt(5*self.num*self.num+4)\n",
    "            self.num_2 = sqrt(5*self.num*self.num-4)\n",
    "        except: \n",
    "            pass\n",
    "        \n",
    "        if num == 0:\n",
    "            return True\n",
    "        \n",
    "        elif (self.num_1 % 1 == 0) or (self.num_2 % 1 == 0):\n",
    "            return True\n",
    "\n",
    "        else:\n",
    "            return False\n",
    "\n",
    "    def fibo_only_list(self):\n",
    "        self.lst = [x for x in range (1001) if self.is_fibonacci(x) == True]\n",
    "        return self.lst\n",
    "    \n",
    "\n",
    "    \n",
    "        \n",
    "\n",
    "    \n",
    "heisann = NewInt()\n",
    "print (heisann.fibo_only_list())\n",
    "\n",
    "\n",
    "\n",
    "\n",
    "\n",
    "\n",
    "\n",
    "\n"
   ]
  },
  {
   "cell_type": "raw",
   "metadata": {},
   "source": [
    "[0, 1, 2, 3, 5, 8, 13, 21, 34, 55, 89, 144, 233, 377, 610, 987] #forventet output for oppgave 3"
   ]
  },
  {
   "cell_type": "raw",
   "metadata": {},
   "source": [
    "4: Lag en liste int_list med NewInt fra 0 til 100 000. Lag deretter et set() fib_set med Fibonacci-tallene mellom 0 og 100 000 med fremgangsmåte du selv velger. Lag en List Comprehension som sjekker int_list mot fib_set. Sammenlign deretter performance mot klassen og metoden du lagde i oppgave 3 for å se hva som er raskest.  Tips: Sjekk performance med %%timeit i en notebook-celle."
   ]
  },
  {
   "cell_type": "code",
   "execution_count": null,
   "metadata": {},
   "outputs": [],
   "source": [
    "#kode for Oppgave 4 her, bruk flere celler hvis det trengs"
   ]
  },
  {
   "cell_type": "raw",
   "metadata": {},
   "source": [
    "#Kommentarer til oppgave 4 her"
   ]
  }
 ],
 "metadata": {
  "kernelspec": {
   "display_name": "Python 3.10.6 ('aircourse')",
   "language": "python",
   "name": "python3"
  },
  "language_info": {
   "codemirror_mode": {
    "name": "ipython",
    "version": 3
   },
   "file_extension": ".py",
   "mimetype": "text/x-python",
   "name": "python",
   "nbconvert_exporter": "python",
   "pygments_lexer": "ipython3",
   "version": "3.10.6"
  },
  "vscode": {
   "interpreter": {
    "hash": "87940ed61e7b3b006b5233b98a1b0cd5c6df9197e6cedc14eafe88b3d8113e40"
   }
  }
 },
 "nbformat": 4,
 "nbformat_minor": 4
}
