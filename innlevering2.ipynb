{
 "cells": [
  {
   "cell_type": "raw",
   "metadata": {},
   "source": [
    "1: Lag en Iterator Class som kan skrive ut Fibonacci-tallene mellom 0 og 1000"
   ]
  },
  {
   "cell_type": "code",
   "execution_count": 24,
   "metadata": {},
   "outputs": [
    {
     "name": "stdout",
     "output_type": "stream",
     "text": [
      "[0, 1, 1, 2, 3, 5, 8, 13, 21, 34, 55, 89, 144, 233, 377, 610, 987]\n"
     ]
    }
   ],
   "source": [
    "class fib_iterator():\n",
    "    def __init__(self):\n",
    "        self.index = 0\n",
    "        self.fib_list = [0,1] \n",
    "    \n",
    "    def __iter__(self):\n",
    "        return self\n",
    "\n",
    "    def last_item(self):\n",
    "        return self.fib_list[len(self.fib_list)-1]\n",
    "    \n",
    "    def next_last_item(self):\n",
    "        if len(self.fib_list) > 2:\n",
    "            return self.fib_list[len(self.fib_list)-2]\n",
    "        else:\n",
    "            return self.fib_list[0]\n",
    "\n",
    "\n",
    "    def __next__(self):\n",
    "        if self.index >= len(self.fib_list):\n",
    "            raise StopIteration\n",
    "        index = self.index\n",
    "        self.index += 1 \n",
    "        return self.fib_list[index]\n",
    "\n",
    "    def make_fib_list(self):\n",
    "        output = self.last_item() + self.next_last_item()\n",
    "\n",
    "        while output < 1000:\n",
    "            self.fib_list.append(output)\n",
    "            output = self.last_item() + self.next_last_item()\n",
    "\n",
    "        return self.fib_list\n",
    "\n",
    "fibonaci_num = fib_iterator()\n",
    "fibonaci_num.make_fib_list()\n",
    "print (fibonaci_num.fib_list)\n"
   ]
  },
  {
   "cell_type": "raw",
   "metadata": {},
   "source": [
    "[0, 1, 1, 2, 3, 5, 8, 13, 21, 34, 55, 89, 144, 233, 377, 610, 987] #forventet output for oppgave 1"
   ]
  },
  {
   "cell_type": "raw",
   "metadata": {},
   "source": [
    "2: Lag en Generator Function som skriver ut Fibonacci-tallene mellom 0 og 1000"
   ]
  },
  {
   "cell_type": "code",
   "execution_count": 29,
   "metadata": {},
   "outputs": [
    {
     "name": "stdout",
     "output_type": "stream",
     "text": [
      "[0, 1, 1]\n",
      "[0, 1, 1, 1]\n",
      "[0, 1, 1, 1, 2]\n",
      "[0, 1, 1, 1, 2, 2]\n",
      "[0, 1, 1, 1, 2, 2, 3]\n",
      "[0, 1, 1, 1, 2, 2, 3, 4]\n",
      "[0, 1, 1, 1, 2, 2, 3, 4, 5]\n",
      "[0, 1, 1, 1, 2, 2, 3, 4, 5, 7]\n",
      "[0, 1, 1, 1, 2, 2, 3, 4, 5, 7, 9]\n",
      "[0, 1, 1, 1, 2, 2, 3, 4, 5, 7, 9, 12]\n",
      "[0, 1, 1, 1, 2, 2, 3, 4, 5, 7, 9, 12, 16]\n",
      "[0, 1, 1, 1, 2, 2, 3, 4, 5, 7, 9, 12, 16, 21]\n",
      "[0, 1, 1, 1, 2, 2, 3, 4, 5, 7, 9, 12, 16, 21, 28]\n",
      "[0, 1, 1, 1, 2, 2, 3, 4, 5, 7, 9, 12, 16, 21, 28, 37]\n",
      "[0, 1, 1, 1, 2, 2, 3, 4, 5, 7, 9, 12, 16, 21, 28, 37, 49]\n",
      "[0, 1, 1, 1, 2, 2, 3, 4, 5, 7, 9, 12, 16, 21, 28, 37, 49, 65]\n",
      "[0, 1, 1, 1, 2, 2, 3, 4, 5, 7, 9, 12, 16, 21, 28, 37, 49, 65, 86]\n",
      "[0, 1, 1, 1, 2, 2, 3, 4, 5, 7, 9, 12, 16, 21, 28, 37, 49, 65, 86, 114]\n",
      "[0, 1, 1, 1, 2, 2, 3, 4, 5, 7, 9, 12, 16, 21, 28, 37, 49, 65, 86, 114, 151]\n",
      "[0, 1, 1, 1, 2, 2, 3, 4, 5, 7, 9, 12, 16, 21, 28, 37, 49, 65, 86, 114, 151, 200]\n",
      "[0, 1, 1, 1, 2, 2, 3, 4, 5, 7, 9, 12, 16, 21, 28, 37, 49, 65, 86, 114, 151, 200, 265]\n",
      "[0, 1, 1, 1, 2, 2, 3, 4, 5, 7, 9, 12, 16, 21, 28, 37, 49, 65, 86, 114, 151, 200, 265, 351]\n",
      "[0, 1, 1, 1, 2, 2, 3, 4, 5, 7, 9, 12, 16, 21, 28, 37, 49, 65, 86, 114, 151, 200, 265, 351, 465]\n",
      "[0, 1, 1, 1, 2, 2, 3, 4, 5, 7, 9, 12, 16, 21, 28, 37, 49, 65, 86, 114, 151, 200, 265, 351, 465, 616]\n",
      "[0, 1, 1, 1, 2, 2, 3, 4, 5, 7, 9, 12, 16, 21, 28, 37, 49, 65, 86, 114, 151, 200, 265, 351, 465, 616, 816]\n"
     ]
    }
   ],
   "source": [
    "def generator_func():\n",
    "    num_list = [0,1]\n",
    "    index = 0\n",
    "    sums = num_list[index] + num_list[index + 1]\n",
    "\n",
    "    while sums < 1000: \n",
    "        num_list.append(sums)\n",
    "        sums = num_list[index] + num_list[index + 1]\n",
    "        index += 1\n",
    "        yield num_list\n",
    "\n",
    "test = generator_func()\n",
    "for i in test:\n",
    "    print (i)"
   ]
  },
  {
   "cell_type": "raw",
   "metadata": {},
   "source": [
    "[0, 1, 1, 2, 3, 5, 8, 13, 21, 34, 55, 89, 144, 233, 377, 610, 987] #forventet output for oppgave 2"
   ]
  },
  {
   "cell_type": "raw",
   "metadata": {},
   "source": [
    "3: Lag en Class NewInt som arver fra int. Den skal ha en Instance Method is_fibonacci() som returnerer True om tallet er et Fibonacci-tall, False hvis ikke. Generer en liste med NewInt fra 0 til 1000. Lag så en List Comprehension som kun beholder tallene som er Fibonacci ved hjelp av klassen og instansmetoden du lagde."
   ]
  },
  {
   "cell_type": "code",
   "execution_count": null,
   "metadata": {},
   "outputs": [],
   "source": [
    "#kode for Oppgave 3 her, bruk flere celler hvis det trengs"
   ]
  },
  {
   "cell_type": "raw",
   "metadata": {},
   "source": [
    "[0, 1, 2, 3, 5, 8, 13, 21, 34, 55, 89, 144, 233, 377, 610, 987] #forventet output for oppgave 3"
   ]
  },
  {
   "cell_type": "raw",
   "metadata": {},
   "source": [
    "4: Lag en liste int_list med NewInt fra 0 til 100 000. Lag deretter et set() fib_set med Fibonacci-tallene mellom 0 og 100 000 med fremgangsmåte du selv velger. Lag en List Comprehension som sjekker int_list mot fib_set. Sammenlign deretter performance mot klassen og metoden du lagde i oppgave 3 for å se hva som er raskest.  Tips: Sjekk performance med %%timeit i en notebook-celle."
   ]
  },
  {
   "cell_type": "code",
   "execution_count": null,
   "metadata": {},
   "outputs": [],
   "source": [
    "#kode for Oppgave 4 her, bruk flere celler hvis det trengs"
   ]
  },
  {
   "cell_type": "raw",
   "metadata": {},
   "source": [
    "#Kommentarer til oppgave 4 her"
   ]
  }
 ],
 "metadata": {
  "kernelspec": {
   "display_name": "Python 3.10.6 ('aircourse')",
   "language": "python",
   "name": "python3"
  },
  "language_info": {
   "codemirror_mode": {
    "name": "ipython",
    "version": 3
   },
   "file_extension": ".py",
   "mimetype": "text/x-python",
   "name": "python",
   "nbconvert_exporter": "python",
   "pygments_lexer": "ipython3",
   "version": "3.10.6"
  },
  "vscode": {
   "interpreter": {
    "hash": "87940ed61e7b3b006b5233b98a1b0cd5c6df9197e6cedc14eafe88b3d8113e40"
   }
  }
 },
 "nbformat": 4,
 "nbformat_minor": 4
}
