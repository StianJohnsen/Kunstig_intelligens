{
 "cells": [
  {
   "cell_type": "raw",
   "metadata": {},
   "source": [
    "1: Lag en Iterator Class som kan skrive ut Fibonacci-tallene mellom 0 og 1000"
   ]
  },
  {
   "cell_type": "code",
   "execution_count": 2,
   "metadata": {},
   "outputs": [
    {
     "ename": "KeyboardInterrupt",
     "evalue": "",
     "output_type": "error",
     "traceback": [
      "\u001b[1;31m---------------------------------------------------------------------------\u001b[0m",
      "\u001b[1;31mKeyboardInterrupt\u001b[0m                         Traceback (most recent call last)",
      "\u001b[1;32mc:\\Users\\47975\\Documents\\Prog\\Python\\skole\\AI\\innlevering\\innlevering2.ipynb Cell 2\u001b[0m in \u001b[0;36m<cell line: 38>\u001b[1;34m()\u001b[0m\n\u001b[0;32m     <a href='vscode-notebook-cell:/c%3A/Users/47975/Documents/Prog/Python/skole/AI/innlevering/innlevering2.ipynb#W1sZmlsZQ%3D%3D?line=31'>32</a>\u001b[0m         \u001b[39mreturn\u001b[39;00m \u001b[39mself\u001b[39m\u001b[39m.\u001b[39mfib_list\n\u001b[0;32m     <a href='vscode-notebook-cell:/c%3A/Users/47975/Documents/Prog/Python/skole/AI/innlevering/innlevering2.ipynb#W1sZmlsZQ%3D%3D?line=35'>36</a>\u001b[0m fibonaci_num \u001b[39m=\u001b[39m fib_iterator()\n\u001b[1;32m---> <a href='vscode-notebook-cell:/c%3A/Users/47975/Documents/Prog/Python/skole/AI/innlevering/innlevering2.ipynb#W1sZmlsZQ%3D%3D?line=37'>38</a>\u001b[0m \u001b[39mprint\u001b[39m(fibonaci_num\u001b[39m.\u001b[39;49mmake_fib_list())\n",
      "\u001b[1;32mc:\\Users\\47975\\Documents\\Prog\\Python\\skole\\AI\\innlevering\\innlevering2.ipynb Cell 2\u001b[0m in \u001b[0;36mfib_iterator.make_fib_list\u001b[1;34m(self)\u001b[0m\n\u001b[0;32m     <a href='vscode-notebook-cell:/c%3A/Users/47975/Documents/Prog/Python/skole/AI/innlevering/innlevering2.ipynb#W1sZmlsZQ%3D%3D?line=26'>27</a>\u001b[0m output \u001b[39m=\u001b[39m \u001b[39m0\u001b[39m\n\u001b[0;32m     <a href='vscode-notebook-cell:/c%3A/Users/47975/Documents/Prog/Python/skole/AI/innlevering/innlevering2.ipynb#W1sZmlsZQ%3D%3D?line=27'>28</a>\u001b[0m \u001b[39mwhile\u001b[39;00m \u001b[39mself\u001b[39m\u001b[39m.\u001b[39mfib_list:\n\u001b[1;32m---> <a href='vscode-notebook-cell:/c%3A/Users/47975/Documents/Prog/Python/skole/AI/innlevering/innlevering2.ipynb#W1sZmlsZQ%3D%3D?line=28'>29</a>\u001b[0m     output \u001b[39m=\u001b[39m \u001b[39mself\u001b[39;49m\u001b[39m.\u001b[39;49mnext_last_item() \u001b[39m+\u001b[39m \u001b[39mself\u001b[39m\u001b[39m.\u001b[39mlast_item()\n\u001b[0;32m     <a href='vscode-notebook-cell:/c%3A/Users/47975/Documents/Prog/Python/skole/AI/innlevering/innlevering2.ipynb#W1sZmlsZQ%3D%3D?line=29'>30</a>\u001b[0m     \u001b[39mif\u001b[39;00m output \u001b[39m<\u001b[39m \u001b[39m1000\u001b[39m:\n\u001b[0;32m     <a href='vscode-notebook-cell:/c%3A/Users/47975/Documents/Prog/Python/skole/AI/innlevering/innlevering2.ipynb#W1sZmlsZQ%3D%3D?line=30'>31</a>\u001b[0m         \u001b[39mself\u001b[39m\u001b[39m.\u001b[39mfib_list\u001b[39m.\u001b[39mappend(output)\n",
      "\u001b[1;32mc:\\Users\\47975\\Documents\\Prog\\Python\\skole\\AI\\innlevering\\innlevering2.ipynb Cell 2\u001b[0m in \u001b[0;36mfib_iterator.next_last_item\u001b[1;34m(self)\u001b[0m\n\u001b[0;32m      <a href='vscode-notebook-cell:/c%3A/Users/47975/Documents/Prog/Python/skole/AI/innlevering/innlevering2.ipynb#W1sZmlsZQ%3D%3D?line=8'>9</a>\u001b[0m \u001b[39mdef\u001b[39;00m \u001b[39mlast_item\u001b[39m(\u001b[39mself\u001b[39m):\n\u001b[0;32m     <a href='vscode-notebook-cell:/c%3A/Users/47975/Documents/Prog/Python/skole/AI/innlevering/innlevering2.ipynb#W1sZmlsZQ%3D%3D?line=9'>10</a>\u001b[0m     \u001b[39mreturn\u001b[39;00m \u001b[39mself\u001b[39m\u001b[39m.\u001b[39mfib_list[\u001b[39mlen\u001b[39m(\u001b[39mself\u001b[39m\u001b[39m.\u001b[39mfib_list)\u001b[39m-\u001b[39m\u001b[39m1\u001b[39m]\n\u001b[1;32m---> <a href='vscode-notebook-cell:/c%3A/Users/47975/Documents/Prog/Python/skole/AI/innlevering/innlevering2.ipynb#W1sZmlsZQ%3D%3D?line=11'>12</a>\u001b[0m \u001b[39mdef\u001b[39;00m \u001b[39mnext_last_item\u001b[39m(\u001b[39mself\u001b[39m):\n\u001b[0;32m     <a href='vscode-notebook-cell:/c%3A/Users/47975/Documents/Prog/Python/skole/AI/innlevering/innlevering2.ipynb#W1sZmlsZQ%3D%3D?line=12'>13</a>\u001b[0m     \u001b[39mif\u001b[39;00m \u001b[39mlen\u001b[39m(\u001b[39mself\u001b[39m\u001b[39m.\u001b[39mfib_list) \u001b[39m>\u001b[39m \u001b[39m2\u001b[39m:\n\u001b[0;32m     <a href='vscode-notebook-cell:/c%3A/Users/47975/Documents/Prog/Python/skole/AI/innlevering/innlevering2.ipynb#W1sZmlsZQ%3D%3D?line=13'>14</a>\u001b[0m         \u001b[39mreturn\u001b[39;00m \u001b[39mself\u001b[39m\u001b[39m.\u001b[39mfib_list[\u001b[39mlen\u001b[39m(\u001b[39mself\u001b[39m\u001b[39m.\u001b[39mfib_list)\u001b[39m-\u001b[39m\u001b[39m2\u001b[39m]\n",
      "\u001b[1;31mKeyboardInterrupt\u001b[0m: "
     ]
    }
   ],
   "source": [
    "class fib_iterator():\n",
    "    def __init__(self):\n",
    "        self.index = 0\n",
    "        self.fib_list = [0,1] \n",
    "    \n",
    "    def __iter__(self):\n",
    "        return self\n",
    "\n",
    "    def last_item(self):\n",
    "        return self.fib_list[len(self.fib_list)-1]\n",
    "    \n",
    "    def next_last_item(self):\n",
    "        if len(self.fib_list) > 2:\n",
    "            return self.fib_list[len(self.fib_list)-2]\n",
    "        else:\n",
    "            return self.fib_list[0]\n",
    "\n",
    "\n",
    "    def __next__(self):\n",
    "        if self.index >= len(self.fib_list):\n",
    "            raise StopIteration\n",
    "        index = self.index\n",
    "        self.index += 1 \n",
    "        return self.fib_list\n",
    "\n",
    "    def make_fib_list(self):\n",
    "        output = 0\n",
    "        while output < 1000:\n",
    "            output = self.next_last_item() + self.last_item()\n",
    "            if output < 1000:\n",
    "                self.fib_list.append(output)\n",
    "        return self.fib_list\n",
    "        \n",
    "\n",
    "\n",
    "fibonaci_num = fib_iterator()\n",
    "\n",
    "print(fibonaci_num.make_fib_list())"
   ]
  },
  {
   "cell_type": "raw",
   "metadata": {},
   "source": [
    "[0, 1, 1, 2, 3, 5, 8, 13, 21, 34, 55, 89, 144, 233, 377, 610, 987] #forventet output for oppgave 1"
   ]
  },
  {
   "cell_type": "raw",
   "metadata": {},
   "source": [
    "2: Lag en Generator Function som skriver ut Fibonacci-tallene mellom 0 og 1000"
   ]
  },
  {
   "cell_type": "code",
   "execution_count": null,
   "metadata": {},
   "outputs": [],
   "source": [
    "#kode for Oppgave 2 her, bruk flere celler hvis det trengs"
   ]
  },
  {
   "cell_type": "raw",
   "metadata": {},
   "source": [
    "[0, 1, 1, 2, 3, 5, 8, 13, 21, 34, 55, 89, 144, 233, 377, 610, 987] #forventet output for oppgave 2"
   ]
  },
  {
   "cell_type": "raw",
   "metadata": {},
   "source": [
    "3: Lag en Class NewInt som arver fra int. Den skal ha en Instance Method is_fibonacci() som returnerer True om tallet er et Fibonacci-tall, False hvis ikke. Generer en liste med NewInt fra 0 til 1000. Lag så en List Comprehension som kun beholder tallene som er Fibonacci ved hjelp av klassen og instansmetoden du lagde."
   ]
  },
  {
   "cell_type": "code",
   "execution_count": null,
   "metadata": {},
   "outputs": [],
   "source": [
    "#kode for Oppgave 3 her, bruk flere celler hvis det trengs"
   ]
  },
  {
   "cell_type": "raw",
   "metadata": {},
   "source": [
    "[0, 1, 2, 3, 5, 8, 13, 21, 34, 55, 89, 144, 233, 377, 610, 987] #forventet output for oppgave 3"
   ]
  },
  {
   "cell_type": "raw",
   "metadata": {},
   "source": [
    "4: Lag en liste int_list med NewInt fra 0 til 100 000. Lag deretter et set() fib_set med Fibonacci-tallene mellom 0 og 100 000 med fremgangsmåte du selv velger. Lag en List Comprehension som sjekker int_list mot fib_set. Sammenlign deretter performance mot klassen og metoden du lagde i oppgave 3 for å se hva som er raskest.  Tips: Sjekk performance med %%timeit i en notebook-celle."
   ]
  },
  {
   "cell_type": "code",
   "execution_count": null,
   "metadata": {},
   "outputs": [],
   "source": [
    "#kode for Oppgave 4 her, bruk flere celler hvis det trengs"
   ]
  },
  {
   "cell_type": "raw",
   "metadata": {},
   "source": [
    "#Kommentarer til oppgave 4 her"
   ]
  }
 ],
 "metadata": {
  "kernelspec": {
   "display_name": "Python 3.10.6 ('aircourse')",
   "language": "python",
   "name": "python3"
  },
  "language_info": {
   "codemirror_mode": {
    "name": "ipython",
    "version": 3
   },
   "file_extension": ".py",
   "mimetype": "text/x-python",
   "name": "python",
   "nbconvert_exporter": "python",
   "pygments_lexer": "ipython3",
   "version": "3.10.6"
  },
  "vscode": {
   "interpreter": {
    "hash": "87940ed61e7b3b006b5233b98a1b0cd5c6df9197e6cedc14eafe88b3d8113e40"
   }
  }
 },
 "nbformat": 4,
 "nbformat_minor": 4
}
