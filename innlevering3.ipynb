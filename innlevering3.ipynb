{
 "cells": [
  {
   "cell_type": "raw",
   "metadata": {},
   "source": [
    "1: Filen \"Personer.dta\" skal leses inn i en list persons. Filen inneholder 100 000 rader med fiktive personalia på formatet \"etternavn;fornavn;adresse;postnummer;poststed\". Dette skal gjøres i native Python, dvs. Numpy/Pandas eller andre libs skal ikke brukes. Legg hver rad inn i en passende datastruktur, feks. tuple, dict, list eller namedtuple. Skriv så ut de 5 siste radene i en celle."
   ]
  },
  {
   "cell_type": "code",
   "execution_count": 2,
   "metadata": {},
   "outputs": [
    {
     "name": "stdout",
     "output_type": "stream",
     "text": [
      "KRISTIANSEN;MORTEN KRISTIAN;LEINAHYTTA 36;7224;MELHUS\n",
      "\n"
     ]
    }
   ],
   "source": [
    "lst_name = []\n",
    "\n",
    "with open('Personer.dta','r') as file:\n",
    "    data = file.readline()\n",
    "\n",
    "    print(data)\n",
    "    \n",
    "\n",
    "\n",
    "    "
   ]
  },
  {
   "cell_type": "raw",
   "metadata": {},
   "source": [
    "2: Hvor mange unike postnummer finnes i \"Personer.dta\"?"
   ]
  },
  {
   "cell_type": "code",
   "execution_count": null,
   "metadata": {},
   "outputs": [],
   "source": [
    "#kode her"
   ]
  },
  {
   "cell_type": "raw",
   "metadata": {},
   "source": [
    "3: Hva er de 10 vanligste etternavnene (som forekommer flest ganger) i \"Personer.dta\"?"
   ]
  },
  {
   "cell_type": "code",
   "execution_count": null,
   "metadata": {},
   "outputs": [],
   "source": [
    "#kode her"
   ]
  },
  {
   "cell_type": "raw",
   "metadata": {},
   "source": [
    "4: Implementer sorteringsalgoritmen Heap Sort og sorter listen \"persons\" ut fra etternavn. Ferdig implementerte funksjoner som sorted() skal ikke benyttes. Skriv så ut persondata for de fem personene med index [0,20000,40000,60000,80000] fra den sorterte listen."
   ]
  },
  {
   "cell_type": "code",
   "execution_count": null,
   "metadata": {},
   "outputs": [],
   "source": [
    "#kode her"
   ]
  }
 ],
 "metadata": {
  "kernelspec": {
   "display_name": "Python 3.10.6 ('aircourse')",
   "language": "python",
   "name": "python3"
  },
  "language_info": {
   "codemirror_mode": {
    "name": "ipython",
    "version": 3
   },
   "file_extension": ".py",
   "mimetype": "text/x-python",
   "name": "python",
   "nbconvert_exporter": "python",
   "pygments_lexer": "ipython3",
   "version": "3.10.6"
  },
  "vscode": {
   "interpreter": {
    "hash": "87940ed61e7b3b006b5233b98a1b0cd5c6df9197e6cedc14eafe88b3d8113e40"
   }
  }
 },
 "nbformat": 4,
 "nbformat_minor": 4
}
